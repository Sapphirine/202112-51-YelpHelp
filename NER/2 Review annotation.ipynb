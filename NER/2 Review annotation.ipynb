{
 "cells": [
  {
   "cell_type": "code",
   "execution_count": 1,
   "metadata": {},
   "outputs": [],
   "source": [
    "import pandas as pd\n",
    "import re\n",
    "import unidecode\n",
    "import pickle\n",
    "import srsly\n",
    "from urllib.parse import unquote"
   ]
  },
  {
   "cell_type": "markdown",
   "metadata": {},
   "source": [
    "### Preprocess each menu item"
   ]
  },
  {
   "cell_type": "code",
   "execution_count": 2,
   "metadata": {},
   "outputs": [],
   "source": [
    "with open(\"restaurants_menus_df.pkl\", \"rb\") as f:\n",
    "    menus = pickle.load(f)"
   ]
  },
  {
   "cell_type": "code",
   "execution_count": 4,
   "metadata": {},
   "outputs": [],
   "source": [
    "def remove_any_brackets(item):\n",
    "    ret = ''\n",
    "    skip1c = 0\n",
    "    skip2c = 0\n",
    "    for i in item:\n",
    "        if i == '[':\n",
    "            skip1c += 1\n",
    "        elif i == '(':\n",
    "            skip2c += 1\n",
    "        elif i == ']' and skip1c > 0:\n",
    "            skip1c -= 1\n",
    "        elif i == ')'and skip2c > 0:\n",
    "            skip2c -= 1\n",
    "        elif skip1c == 0 and skip2c == 0:\n",
    "            ret += i\n",
    "    return ret"
   ]
  },
  {
   "cell_type": "code",
   "execution_count": 5,
   "metadata": {},
   "outputs": [],
   "source": [
    "def preprocess_menu_items(item):\n",
    "    # remove content of brackets and detect 0 length string\n",
    "    item = remove_any_brackets(item).strip()\n",
    "    len_item = len(item)\n",
    "    \n",
    "    if (len_item > 70) | (len_item < 3):\n",
    "        # not considering string with length more than 50\n",
    "        return \"\"\n",
    "    else:\n",
    "        item = unidecode.unidecode(item + \" \")\\\n",
    "                                        .lower()\\\n",
    "                                        .replace(\".\", \". \")\\\n",
    "                                        .replace(\"&\", \"and\")\\\n",
    "                                        .replace(\"-\", \" \")\\\n",
    "                                        .replace(\" w/\", \" with \")\n",
    "        to_remove = [f'\\*|\\\"|\\$|#', # remove * and \" and $ and #\n",
    "                     f'\\d+\\s*(lb|pounds|pound|oz|ounces|ounce|inches|inch'\n",
    "                             f'|grams|gram|pcs|pieces|piece|each|cup'\n",
    "                             f'|bowl|scoops|scoop|pot|liters|liter'\n",
    "                             f'|or less|off)\\s*((of)*)\\.*\\s+',\n",
    "                     f'\\s*\\S*[0-9]\\S*'] # remove anyword with digits in it\n",
    "                     \n",
    "        for pattern in to_remove:\n",
    "            item = re.sub(pattern, ' ', item)\n",
    "        \n",
    "        item = ' '.join(item.replace(\".\", \"\").split())\n",
    "        \n",
    "        if len(item) < 3:\n",
    "            return \"\"\n",
    "        else:\n",
    "            return item"
   ]
  },
  {
   "cell_type": "code",
   "execution_count": 6,
   "metadata": {},
   "outputs": [],
   "source": [
    "menu_items_to_remove = [\"cup\",\"way\",\"sol\",\"uni\",\"can\",\"mix\",\"hot\",\"mac\",\"red\",\"hat\",\"nem\",\"pop\",\"nan\",\n",
    "                        \"res\",\"the\",\"cafe\",\"inch\",\"thin\",\"soda\",\"cake\",\"bowl\",\"tune\",\"live\",\"mild\",\n",
    "                        \"club\",\"cola\",\"lime\",\"beer\",\"sole\",\"well\",\"solo\",\"coka\",\"fire\",\"roll\",\"dark\",\n",
    "                        \"wine\",\"chef\",\"sake\",\"diet\",\"soup\",\"fool\",\"pils\",\"coke\",\"pick\",\"sides\",\"super\",\"spicy\",\n",
    "                        \"large\",\"order\",\"unity\",\"pique\",\"sides\",\"small\",\"juice\",\"combo\",\"coffe\",\"toast\",\n",
    "                        \"limes\",\"liver\",\"lemon\",\"sauce\",\"fried\",\"green\",\"limca\",\"fruit\",\"jumbo\",\"meats\",\n",
    "                        \"cocoa\",\"basic\",\"pound\",\"plate\",\"coast\",\"drink\",\"black\",\"white\",\"house\",\"water\",\n",
    "                        \"plain\",\"large\",\"lunch\",\"sunny\",\"truly\",\"pepsi\",\"baked\",\"chips\",\"crush\",\"banks\",\n",
    "                        \"fanta\",\"shake\",\"royal\",\"garden\",\"powers\",\"crusts\",\"virtue\",\"waters\",\"people\",\"single\",\n",
    "                        \"friday\",\"labneh\",\"uptown\",\"liters\",\"juices\",\"corona\",\"crimes\",\"robust\",\"tender\",\n",
    "                        \"pieces\",\"pizzas\",\"salumi\",\"loaded\",\"sunset\",\"scoops\",\"gloves\",\"sunday\",\"medium\",\n",
    "                        \"coffee\",\"farmer\",\"parlor\",\"clever\",\"donpx,\",\"sprite\",\"extras\",\"simple\",\"heater\",\"taste\",\n",
    "                        \"makers\",\"bottle\",\"drinks\",\"deluxe\",\"unique\",\"chef's\",\"lunch a\",\"lunch b\",\"lunch c\",\n",
    "                        \"lunch d\",\"lunch e\",\"lunch f\",\"lunch g\",\"lunch h\",\"lunch i\",\"lunch j\",\"lunch k\",\n",
    "                        \"lunch l\",\"lunch m\",\"lunch n\",\"lunch o\",\"lunch p\",\"lunch q\",\"lunch r\",\"lunch s\",\n",
    "                        \"lunch t\",\"lunch u\",\"lunch v\",\"lunch w\",\"lunch x\",\"lunch y\",\"lunch z\",\"pop ups\",\n",
    "                        \"buffalo\",\"napkins\",\"chopped\",\"phoenix\",\"cluster\",\"patriot\",\"one egg\",\"the egg\",\n",
    "                        \"ketchup\",\"baskets\",\"genesis\",\"average\",\"v juice\",\"chamber\",\"or less\",\"two egg\",\n",
    "                        \"absolut\",\"chronic\",\"biscuit\",\"imports\",\"degrees\",\"supreme\",\"century\",\"mondays\",\n",
    "                        \"regular\",\"special\",\"doubles\",\"t shirt\",\"classic\",\"awesome\",\"western\",\"original\",\n",
    "                        \"utensils\",\"seasonal\",\"one meat\",\"triad in\",\"toppings\",\"specials\",\"desserts\",\n",
    "                        \"can coke\",\"thums up\",\"original\",\"pick two\",\"exclusiv\",\"can soda\",\"saturday\",\n",
    "                        \"the kind\",\"diabetes\",\"sandwich\",\"can cola\",\"cocacola\",\"downtown\",\"birthday\",\n",
    "                        \"utensils\",\"two rice\",\"official\",\"rotating\",\"can pops\",\"thursday\",\"coke can\",\n",
    "                        \"soda pop\",\"paradise\",\"festival\",\"take off\",\"tuesdays\",\"new york\",\"chutneys\",\n",
    "                        \"principe\",\"full pot\",\"manhattan\",\"benchmark\",\"roll of garbage bags\",\"garbage bag each\",\n",
    "                        \"sani spritz spray\",\"toilet paper\",\"kids cups no spill locking lid\",\"kleenex box\",\"sani wipes\"]"
   ]
  },
  {
   "cell_type": "code",
   "execution_count": 7,
   "metadata": {},
   "outputs": [],
   "source": [
    "s=menus['menu']\n",
    "rest = menus['url']\n",
    "\n",
    "cat = set()\n",
    "items = set()\n",
    "items_ = []\n",
    "og_items = []\n",
    "rest_name = []"
   ]
  },
  {
   "cell_type": "code",
   "execution_count": 8,
   "metadata": {},
   "outputs": [],
   "source": [
    "for j, i in zip(rest, s):\n",
    "    cat |= set([k.lower() for k in i['food_items'].keys()])\n",
    "    for v in i['food_items'].values():\n",
    "        for fi in v:\n",
    "            food_item = preprocess_menu_items(fi['name'])\n",
    "            if (food_item != \"\") and (food_item not in menu_items_to_remove):\n",
    "                og_items.append(fi['name'])\n",
    "                items.add(food_item)\n",
    "                items_.append(food_item)\n",
    "                rest_name.append(j[5:])"
   ]
  },
  {
   "cell_type": "code",
   "execution_count": 9,
   "metadata": {},
   "outputs": [
    {
     "data": {
      "text/plain": [
       "46743"
      ]
     },
     "execution_count": 9,
     "metadata": {},
     "output_type": "execute_result"
    }
   ],
   "source": [
    "len(items) # 47061\n",
    "# v2 46768\n",
    "# v3 46743 # remove \"spicy\" and replace w/ -> with"
   ]
  },
  {
   "cell_type": "code",
   "execution_count": 10,
   "metadata": {},
   "outputs": [],
   "source": [
    "# get top menu items\n",
    "from ast import literal_eval\n",
    "\n",
    "rest_info = pd.read_csv(\"restaurants_info.csv\")\n",
    "\n",
    "top_menu_items = set()\n",
    "\n",
    "for top_menu_items_str in rest_info.top_food_items:\n",
    "    top_menu_items_list = literal_eval(top_menu_items_str)\n",
    "    top_menu_items_list = map(preprocess_menu_items, top_menu_items_list)\n",
    "    top_menu_items_list = [item for item in top_menu_items_list if (item != \"\") and (item not in menu_items_to_remove)]\n",
    "    top_menu_items |= set(top_menu_items_list)"
   ]
  },
  {
   "cell_type": "code",
   "execution_count": 11,
   "metadata": {},
   "outputs": [
    {
     "data": {
      "text/plain": [
       "10878"
      ]
     },
     "execution_count": 11,
     "metadata": {},
     "output_type": "execute_result"
    }
   ],
   "source": [
    "len(top_menu_items)"
   ]
  },
  {
   "cell_type": "code",
   "execution_count": 12,
   "metadata": {},
   "outputs": [],
   "source": [
    "items |= top_menu_items"
   ]
  },
  {
   "cell_type": "code",
   "execution_count": 15,
   "metadata": {},
   "outputs": [],
   "source": [
    "pd.DataFrame({'menu_items':list(items)}).to_csv('preprocessed_unique_menu_items_W_top_food_items_v4.csv', index=False)"
   ]
  },
  {
   "cell_type": "code",
   "execution_count": 13,
   "metadata": {},
   "outputs": [
    {
     "data": {
      "text/plain": [
       "52932"
      ]
     },
     "execution_count": 13,
     "metadata": {},
     "output_type": "execute_result"
    }
   ],
   "source": [
    "len(items)"
   ]
  },
  {
   "cell_type": "markdown",
   "metadata": {},
   "source": [
    "### Using PhraseMatcher from spacy to get annotations"
   ]
  },
  {
   "cell_type": "code",
   "execution_count": 15,
   "metadata": {},
   "outputs": [],
   "source": [
    "import spacy\n",
    "from spacy.matcher import PhraseMatcher\n",
    "from spacy.util import filter_spans"
   ]
  },
  {
   "cell_type": "code",
   "execution_count": 16,
   "metadata": {},
   "outputs": [],
   "source": [
    "def preprocess_reviews(review: str) -> str:\n",
    "    review = unidecode.unidecode(review + \" \").lower()\\\n",
    "                                              .replace(\"&\", \"and\")\\\n",
    "                                              .replace(\"-\", \" \")\\\n",
    "                                              .replace(\" w/\", \" with \")\n",
    "\n",
    "    review = re.sub('\\*|\\\"|\\$|#', '', review)\n",
    "    review = re.sub(r'(\\W)(?=\\1)', '', review) # ....??? -> .? or ???? -> ? or !!!!!! -> !\n",
    "\n",
    "    review = ' '.join(review.split())\n",
    "\n",
    "    return review"
   ]
  },
  {
   "cell_type": "code",
   "execution_count": 17,
   "metadata": {},
   "outputs": [
    {
     "name": "stdout",
     "output_type": "stream",
     "text": [
      "Wall time: 0 ns\n",
      "hi 40 and 20. are mising 2000 !?from the get go. disclaimer don't tell anyone,\n"
     ]
    }
   ],
   "source": [
    "%time\n",
    "test = '   HI $40 & #20. are mising 2000 !!!????from the get---go... ****disclaimer* \"don\\'t tell anyone\", '\n",
    "print(preprocess_reviews(test))"
   ]
  },
  {
   "cell_type": "code",
   "execution_count": 18,
   "metadata": {},
   "outputs": [],
   "source": [
    "items = list(items)\n",
    "\n",
    "nlp = spacy.blank('en')\n",
    "nlp_menu_item_docs = list(nlp.tokenizer.pipe(items))\n",
    "phrase_matcher = PhraseMatcher(nlp.vocab)\n",
    "phrase_matcher.add('menuitem', None, *nlp_menu_item_docs)"
   ]
  },
  {
   "cell_type": "code",
   "execution_count": 42,
   "metadata": {},
   "outputs": [],
   "source": [
    "# get rest name with menu\n",
    "rest_names_w_menus = menus.url.apply(lambda x: unquote(x)[5:])"
   ]
  },
  {
   "cell_type": "code",
   "execution_count": 19,
   "metadata": {},
   "outputs": [],
   "source": [
    "rest_names_w_menus = [\"café-orchid-chicago-2\", \"lao-sze-chuan-chicago-2\"]"
   ]
  },
  {
   "cell_type": "code",
   "execution_count": 20,
   "metadata": {},
   "outputs": [
    {
     "name": "stdout",
     "output_type": "stream",
     "text": [
      "Wall time: 6.38 s\n"
     ]
    }
   ],
   "source": [
    "%%time\n",
    "ann_data = []\n",
    "\n",
    "reviews_w_no_menuitem = 0\n",
    "total_menuitems_entities = 0\n",
    "rest = 0\n",
    "\n",
    "for rest_name in rest_names_w_menus:\n",
    "    try:\n",
    "        review_data = srsly.read_jsonl(\"restaurant wise reviews/Chicago, IL/\" + rest_name + \".jsonl\")\n",
    "#         print(rest_name)\n",
    "        for review_dict in review_data:\n",
    "            review = review_dict['review']\n",
    "            review = preprocess_reviews(review)\n",
    "\n",
    "            doc = nlp(review)\n",
    "            matches = phrase_matcher(doc)\n",
    "            spans = [doc[start : end] for _, start, end in matches]\n",
    "            spans = filter_spans(spans)\n",
    "            entities = [[span.start_char, span.end_char, \"menuitem\"] for span in spans]\n",
    "\n",
    "            num_entities = len(spans)\n",
    "            if num_entities:\n",
    "                total_menuitems_entities += num_entities\n",
    "            else:\n",
    "                reviews_w_no_menuitem += 1\n",
    "            ann_data.append([review, {\"entities\" : entities}])\n",
    "        rest += 1\n",
    "    except:\n",
    "        pass"
   ]
  },
  {
   "cell_type": "code",
   "execution_count": 44,
   "metadata": {},
   "outputs": [
    {
     "name": "stdout",
     "output_type": "stream",
     "text": [
      "23464 795276\n",
      "309\n"
     ]
    },
    {
     "data": {
      "text/plain": [
       "160993"
      ]
     },
     "execution_count": 44,
     "metadata": {},
     "output_type": "execute_result"
    }
   ],
   "source": [
    "print(reviews_w_no_menuitem, total_menuitems_entities)\n",
    "print(rest)\n",
    "len(ann_data)\n",
    "# 23464 795276\n",
    "# 309\n",
    "# 160993"
   ]
  },
  {
   "cell_type": "code",
   "execution_count": null,
   "metadata": {},
   "outputs": [],
   "source": [
    "# v1 -> lower and convert \"&\" to \"and\"\n",
    "# v2 -> preprocess_reviews()\n",
    "# v3 -> not repacing \".\" with \". \", replacing recurring punctuation with single"
   ]
  },
  {
   "cell_type": "code",
   "execution_count": 21,
   "metadata": {},
   "outputs": [],
   "source": [
    "srsly.write_json(\"annotated_data_ci_w_no_cuisine_menus.json\", ann_data)"
   ]
  },
  {
   "cell_type": "code",
   "execution_count": null,
   "metadata": {},
   "outputs": [],
   "source": [
    "# TODO : change filter_spans implementation?"
   ]
  }
 ],
 "metadata": {
  "kernelspec": {
   "display_name": "yelp_ner (python 3.6.5)",
   "language": "python",
   "name": "yelp_ner"
  },
  "language_info": {
   "codemirror_mode": {
    "name": "ipython",
    "version": 3
   },
   "file_extension": ".py",
   "mimetype": "text/x-python",
   "name": "python",
   "nbconvert_exporter": "python",
   "pygments_lexer": "ipython3",
   "version": "3.6.5"
  }
 },
 "nbformat": 4,
 "nbformat_minor": 4
}

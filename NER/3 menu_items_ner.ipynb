{
 "cells": [
  {
   "cell_type": "code",
   "execution_count": 1,
   "metadata": {
    "colab": {},
    "colab_type": "code",
    "executionInfo": {
     "elapsed": 1003,
     "status": "ok",
     "timestamp": 1592988942955,
     "user": {
      "displayName": "Bhavin Dhedhi",
      "photoUrl": "https://lh3.googleusercontent.com/a-/AOh14Gjfwoh1TXxZvXizF8btwvYi0H12CWXWrDJoFRgYag=s64",
      "userId": "03972606084619825646"
     },
     "user_tz": -330
    },
    "id": "mqNm3BJtzijd"
   },
   "outputs": [],
   "source": [
    "from __future__ import unicode_literals\n",
    "import plac\n",
    "import random\n",
    "from pathlib import Path\n",
    "import spacy\n",
    "import json\n",
    "import io\n",
    "from spacy.util import minibatch, compounding\n",
    "import pandas as pd\n",
    "import re\n",
    "import numpy as np\n",
    "import srsly\n",
    "import unidecode\n",
    "from spacy.scorer import Scorer\n",
    "from spacy.gold import GoldParse"
   ]
  },
  {
   "cell_type": "code",
   "execution_count": 10,
   "metadata": {
    "colab": {
     "base_uri": "https://localhost:8080/",
     "height": 34
    },
    "colab_type": "code",
    "executionInfo": {
     "elapsed": 4410,
     "status": "ok",
     "timestamp": 1592988950225,
     "user": {
      "displayName": "Bhavin Dhedhi",
      "photoUrl": "https://lh3.googleusercontent.com/a-/AOh14Gjfwoh1TXxZvXizF8btwvYi0H12CWXWrDJoFRgYag=s64",
      "userId": "03972606084619825646"
     },
     "user_tz": -330
    },
    "id": "to5sh5R31Ly7",
    "outputId": "573a8952-028a-4050-e937-c5eb426974ba"
   },
   "outputs": [
    {
     "data": {
      "text/plain": [
       "True"
      ]
     },
     "execution_count": 10,
     "metadata": {
      "tags": []
     },
     "output_type": "execute_result"
    }
   ],
   "source": [
    "spacy.require_gpu()"
   ]
  },
  {
   "cell_type": "code",
   "execution_count": 13,
   "metadata": {
    "colab": {},
    "colab_type": "code",
    "executionInfo": {
     "elapsed": 6289,
     "status": "ok",
     "timestamp": 1592989051943,
     "user": {
      "displayName": "Bhavin Dhedhi",
      "photoUrl": "https://lh3.googleusercontent.com/a-/AOh14Gjfwoh1TXxZvXizF8btwvYi0H12CWXWrDJoFRgYag=s64",
      "userId": "03972606084619825646"
     },
     "user_tz": -330
    },
    "id": "o43ScfLGzijl"
   },
   "outputs": [],
   "source": [
    "LABELS = ['menuitem']\n",
    "TRAIN_DATA = srsly.read_json(\"drive/My Drive/annotated_data_phoenix.json\")"
   ]
  },
  {
   "cell_type": "code",
   "execution_count": 14,
   "metadata": {
    "colab": {
     "base_uri": "https://localhost:8080/",
     "height": 34
    },
    "colab_type": "code",
    "executionInfo": {
     "elapsed": 1933,
     "status": "ok",
     "timestamp": 1592989055952,
     "user": {
      "displayName": "Bhavin Dhedhi",
      "photoUrl": "https://lh3.googleusercontent.com/a-/AOh14Gjfwoh1TXxZvXizF8btwvYi0H12CWXWrDJoFRgYag=s64",
      "userId": "03972606084619825646"
     },
     "user_tz": -330
    },
    "id": "mgL-yoT3zijr",
    "outputId": "0b16c6c8-dfa5-4f09-c857-1a835279e30d"
   },
   "outputs": [
    {
     "data": {
      "text/plain": [
       "160993"
      ]
     },
     "execution_count": 14,
     "metadata": {
      "tags": []
     },
     "output_type": "execute_result"
    }
   ],
   "source": [
    "len(TRAIN_DATA)"
   ]
  },
  {
   "cell_type": "code",
   "execution_count": 15,
   "metadata": {
    "colab": {},
    "colab_type": "code",
    "executionInfo": {
     "elapsed": 1325,
     "status": "ok",
     "timestamp": 1592989057954,
     "user": {
      "displayName": "Bhavin Dhedhi",
      "photoUrl": "https://lh3.googleusercontent.com/a-/AOh14Gjfwoh1TXxZvXizF8btwvYi0H12CWXWrDJoFRgYag=s64",
      "userId": "03972606084619825646"
     },
     "user_tz": -330
    },
    "id": "97wMJAw1i-Se"
   },
   "outputs": [],
   "source": [
    "from sklearn.model_selection import train_test_split"
   ]
  },
  {
   "cell_type": "code",
   "execution_count": 16,
   "metadata": {
    "colab": {},
    "colab_type": "code",
    "executionInfo": {
     "elapsed": 1775,
     "status": "ok",
     "timestamp": 1592989058606,
     "user": {
      "displayName": "Bhavin Dhedhi",
      "photoUrl": "https://lh3.googleusercontent.com/a-/AOh14Gjfwoh1TXxZvXizF8btwvYi0H12CWXWrDJoFRgYag=s64",
      "userId": "03972606084619825646"
     },
     "user_tz": -330
    },
    "id": "915RqiXUkA65"
   },
   "outputs": [],
   "source": [
    "train, test = train_test_split(TRAIN_DATA, test_size=0.1, random_state=1)\n",
    "\n",
    "train, val = train_test_split(train, test_size=0.11, random_state=1)"
   ]
  },
  {
   "cell_type": "code",
   "execution_count": 17,
   "metadata": {
    "colab": {
     "base_uri": "https://localhost:8080/",
     "height": 34
    },
    "colab_type": "code",
    "executionInfo": {
     "elapsed": 1161,
     "status": "ok",
     "timestamp": 1592989060243,
     "user": {
      "displayName": "Bhavin Dhedhi",
      "photoUrl": "https://lh3.googleusercontent.com/a-/AOh14Gjfwoh1TXxZvXizF8btwvYi0H12CWXWrDJoFRgYag=s64",
      "userId": "03972606084619825646"
     },
     "user_tz": -330
    },
    "id": "gmQgm7rDkpWn",
    "outputId": "c2d40043-2b58-4759-9acd-840e2853190f"
   },
   "outputs": [
    {
     "data": {
      "text/plain": [
       "(128954, 15939, 16100)"
      ]
     },
     "execution_count": 17,
     "metadata": {
      "tags": []
     },
     "output_type": "execute_result"
    }
   ],
   "source": [
    "len(train), len(val), len(test)"
   ]
  },
  {
   "cell_type": "code",
   "execution_count": 18,
   "metadata": {
    "colab": {},
    "colab_type": "code",
    "executionInfo": {
     "elapsed": 1099,
     "status": "ok",
     "timestamp": 1592967038388,
     "user": {
      "displayName": "Bhavin Dhedhi",
      "photoUrl": "https://lh3.googleusercontent.com/a-/AOh14Gjfwoh1TXxZvXizF8btwvYi0H12CWXWrDJoFRgYag=s64",
      "userId": "03972606084619825646"
     },
     "user_tz": -330
    },
    "id": "_BGHSw1RN_f_"
   },
   "outputs": [],
   "source": [
    "train = train[:100]\n",
    "val = val[:10]"
   ]
  },
  {
   "cell_type": "code",
   "execution_count": 2,
   "metadata": {
    "colab": {},
    "colab_type": "code",
    "executionInfo": {
     "elapsed": 1769,
     "status": "ok",
     "timestamp": 1592989091503,
     "user": {
      "displayName": "Bhavin Dhedhi",
      "photoUrl": "https://lh3.googleusercontent.com/a-/AOh14Gjfwoh1TXxZvXizF8btwvYi0H12CWXWrDJoFRgYag=s64",
      "userId": "03972606084619825646"
     },
     "user_tz": -330
    },
    "id": "g5biCZLKyPk1"
   },
   "outputs": [],
   "source": [
    "def evaluate(nlp, ner, dev_sents):\n",
    "    scorer = Scorer()\n",
    "    \n",
    "    for raw_text, annotations in dev_sents:\n",
    "        doc = nlp.make_doc(raw_text)\n",
    "        ner(doc)\n",
    "        gold = GoldParse(doc, entities=annotations[\"entities\"])\n",
    "        nlp.entity(doc)\n",
    "        scorer.score(doc, gold)\n",
    "    return scorer.scores\n",
    "\n",
    "def get_scores(nlp, ner, examples):\n",
    "    random.shuffle(examples)\n",
    "\n",
    "    scores = evaluate(nlp, ner, examples)\n",
    "\n",
    "    precision = '%.2f' % scores['ents_p']\n",
    "    recall = '%.2f' % scores['ents_r']\n",
    "    f_measure = '%.2f' % scores['ents_f']\n",
    "    print(f\"P = {precision}\\nR = {recall}\\nF = {f_measure}\")\n",
    "\n",
    "    return scores"
   ]
  },
  {
   "cell_type": "code",
   "execution_count": 29,
   "metadata": {
    "colab": {
     "base_uri": "https://localhost:8080/",
     "height": 1000
    },
    "colab_type": "code",
    "collapsed": true,
    "executionInfo": {
     "elapsed": 7263098,
     "status": "ok",
     "timestamp": 1592984109834,
     "user": {
      "displayName": "Bhavin Dhedhi",
      "photoUrl": "https://lh3.googleusercontent.com/a-/AOh14Gjfwoh1TXxZvXizF8btwvYi0H12CWXWrDJoFRgYag=s64",
      "userId": "03972606084619825646"
     },
     "user_tz": -330
    },
    "id": "VYEDxD8rzijz",
    "jupyter": {
     "outputs_hidden": true
    },
    "outputId": "bd43823a-95cb-499e-85c6-876828d1d4cd"
   },
   "outputs": [
    {
     "name": "stdout",
     "output_type": "stream",
     "text": [
      "Created blank 'en' model\n",
      "Epoch 1/50.\n",
      "------------\n",
      "loss -> {'ner': 638257.0937576294}\n",
      "Saved model to drive/My Drive/menuitem_ner_model_epoch_1\n",
      "Epoch 2/50.\n",
      "------------\n",
      "loss -> {'ner': 295657.8459300995}\n",
      "Saved model to drive/My Drive/menuitem_ner_model_epoch_2\n",
      "Epoch 3/50.\n",
      "------------\n",
      "loss -> {'ner': 233649.82171583176}\n",
      "Saved model to drive/My Drive/menuitem_ner_model_epoch_3\n",
      "Epoch 4/50.\n",
      "------------\n",
      "loss -> {'ner': 208049.1404337883}\n",
      "Saved model to drive/My Drive/menuitem_ner_model_epoch_4\n",
      "Epoch 5/50.\n",
      "------------\n",
      "loss -> {'ner': 195648.90961933136}\n",
      "Saved model to drive/My Drive/menuitem_ner_model_epoch_5\n",
      "Epoch 6/50.\n",
      "------------\n",
      "loss -> {'ner': 179508.0811343193}\n",
      "Saved model to drive/My Drive/menuitem_ner_model_epoch_6\n",
      "Epoch 7/50.\n",
      "------------\n",
      "loss -> {'ner': 170754.4791829586}\n",
      "Saved model to drive/My Drive/menuitem_ner_model_epoch_7\n",
      "Epoch 8/50.\n",
      "------------\n",
      "loss -> {'ner': 164743.40112113953}\n",
      "Saved model to drive/My Drive/menuitem_ner_model_epoch_8\n",
      "Epoch 9/50.\n",
      "------------\n",
      "loss -> {'ner': 155413.72402000427}\n",
      "Saved model to drive/My Drive/menuitem_ner_model_epoch_9\n",
      "Epoch 10/50.\n",
      "------------\n",
      "loss -> {'ner': 150205.7600402832}\n",
      "Saved model to drive/My Drive/menuitem_ner_model_epoch_10\n",
      "Epoch 11/50.\n",
      "------------\n",
      "loss -> {'ner': 142445.70676410198}\n",
      "Saved model to drive/My Drive/menuitem_ner_model_epoch_11\n",
      "Epoch 12/50.\n",
      "------------\n",
      "loss -> {'ner': 141550.64609503746}\n",
      "Saved model to drive/My Drive/menuitem_ner_model_epoch_12\n",
      "Epoch 13/50.\n",
      "------------\n",
      "loss -> {'ner': 136349.71036684513}\n",
      "Saved model to drive/My Drive/menuitem_ner_model_epoch_13\n",
      "Epoch 14/50.\n",
      "------------\n",
      "loss -> {'ner': 127485.24094367027}\n",
      "Saved model to drive/My Drive/menuitem_ner_model_epoch_14\n",
      "Epoch 15/50.\n",
      "------------\n",
      "loss -> {'ner': 126698.07249307632}\n",
      "Saved model to drive/My Drive/menuitem_ner_model_epoch_15\n",
      "Epoch 16/50.\n",
      "------------\n",
      "loss -> {'ner': 126422.3188816905}\n",
      "Saved model to drive/My Drive/menuitem_ner_model_epoch_16\n",
      "Epoch 17/50.\n",
      "------------\n",
      "loss -> {'ner': 121148.35177350044}\n",
      "Saved model to drive/My Drive/menuitem_ner_model_epoch_17\n",
      "Epoch 18/50.\n",
      "------------\n",
      "loss -> {'ner': 120393.54675555229}\n",
      "Saved model to drive/My Drive/menuitem_ner_model_epoch_18\n",
      "Epoch 19/50.\n",
      "------------\n",
      "loss -> {'ner': 119921.80826497078}\n",
      "Saved model to drive/My Drive/menuitem_ner_model_epoch_19\n",
      "Epoch 20/50.\n",
      "------------\n",
      "loss -> {'ner': 115854.2407131195}\n",
      "Saved model to drive/My Drive/menuitem_ner_model_epoch_20\n",
      "Epoch 21/50.\n",
      "------------\n",
      "loss -> {'ner': 114505.17424821854}\n",
      "Saved model to drive/My Drive/menuitem_ner_model_epoch_21\n",
      "Epoch 22/50.\n",
      "------------\n",
      "loss -> {'ner': 113760.96679013968}\n",
      "Saved model to drive/My Drive/menuitem_ner_model_epoch_22\n",
      "Epoch 23/50.\n",
      "------------\n",
      "loss -> {'ner': 110095.3545652628}\n",
      "Saved model to drive/My Drive/menuitem_ner_model_epoch_23\n",
      "Epoch 24/50.\n",
      "------------\n",
      "loss -> {'ner': 110061.05742704868}\n",
      "Saved model to drive/My Drive/menuitem_ner_model_epoch_24\n",
      "Epoch 25/50.\n",
      "------------\n",
      "loss -> {'ner': 110791.72577702999}\n",
      "Saved model to drive/My Drive/menuitem_ner_model_epoch_25\n",
      "Epoch 26/50.\n",
      "------------\n",
      "loss -> {'ner': 108845.0136705041}\n",
      "Saved model to drive/My Drive/menuitem_ner_model_epoch_26\n",
      "Epoch 27/50.\n",
      "------------\n",
      "loss -> {'ner': 107664.72991919518}\n",
      "Saved model to drive/My Drive/menuitem_ner_model_epoch_27\n",
      "Epoch 28/50.\n",
      "------------\n",
      "loss -> {'ner': 103867.62434130907}\n",
      "Saved model to drive/My Drive/menuitem_ner_model_epoch_28\n",
      "Epoch 29/50.\n",
      "------------\n",
      "loss -> {'ner': 103690.95468771458}\n",
      "Saved model to drive/My Drive/menuitem_ner_model_epoch_29\n",
      "Epoch 30/50.\n",
      "------------\n",
      "loss -> {'ner': 104340.30363154411}\n",
      "Saved model to drive/My Drive/menuitem_ner_model_epoch_30\n",
      "Epoch 31/50.\n",
      "------------\n",
      "loss -> {'ner': 101297.79956507683}\n",
      "Saved model to drive/My Drive/menuitem_ner_model_epoch_31\n",
      "Epoch 32/50.\n",
      "------------\n",
      "loss -> {'ner': 100184.39110612869}\n",
      "Saved model to drive/My Drive/menuitem_ner_model_epoch_32\n",
      "Epoch 33/50.\n",
      "------------\n",
      "loss -> {'ner': 101005.47441676259}\n",
      "Saved model to drive/My Drive/menuitem_ner_model_epoch_33\n",
      "Epoch 34/50.\n",
      "------------\n",
      "loss -> {'ner': 101321.761241436}\n",
      "Saved model to drive/My Drive/menuitem_ner_model_epoch_34\n",
      "Epoch 35/50.\n",
      "------------\n",
      "loss -> {'ner': 97230.92297530174}\n",
      "Saved model to drive/My Drive/menuitem_ner_model_epoch_35\n",
      "Epoch 36/50.\n",
      "------------\n",
      "loss -> {'ner': 97943.72667753696}\n",
      "Saved model to drive/My Drive/menuitem_ner_model_epoch_36\n",
      "Epoch 37/50.\n",
      "------------\n",
      "loss -> {'ner': 96175.1523950696}\n",
      "Saved model to drive/My Drive/menuitem_ner_model_epoch_37\n",
      "Epoch 38/50.\n",
      "------------\n",
      "loss -> {'ner': 96969.92134511471}\n",
      "Saved model to drive/My Drive/menuitem_ner_model_epoch_38\n",
      "Epoch 39/50.\n",
      "------------\n",
      "loss -> {'ner': 94393.72758346796}\n",
      "Saved model to drive/My Drive/menuitem_ner_model_epoch_39\n",
      "Epoch 40/50.\n",
      "------------\n",
      "loss -> {'ner': 93928.4613879919}\n",
      "Saved model to drive/My Drive/menuitem_ner_model_epoch_40\n",
      "Epoch 41/50.\n",
      "------------\n",
      "loss -> {'ner': 93926.61684155464}\n",
      "Saved model to drive/My Drive/menuitem_ner_model_epoch_41\n",
      "Epoch 42/50.\n",
      "------------\n",
      "loss -> {'ner': 91922.73118668795}\n",
      "Saved model to drive/My Drive/menuitem_ner_model_epoch_42\n",
      "Epoch 43/50.\n",
      "------------\n",
      "loss -> {'ner': 91800.18725049496}\n",
      "Saved model to drive/My Drive/menuitem_ner_model_epoch_43\n",
      "Epoch 44/50.\n",
      "------------\n",
      "loss -> {'ner': 91159.34154188633}\n",
      "Saved model to drive/My Drive/menuitem_ner_model_epoch_44\n",
      "Epoch 45/50.\n",
      "------------\n",
      "loss -> {'ner': 90298.80151355267}\n",
      "Saved model to drive/My Drive/menuitem_ner_model_epoch_45\n",
      "Epoch 46/50.\n",
      "------------\n",
      "loss -> {'ner': 91786.64365291595}\n",
      "Saved model to drive/My Drive/menuitem_ner_model_epoch_46\n",
      "Epoch 47/50.\n",
      "------------\n",
      "loss -> {'ner': 88590.28488779068}\n",
      "Saved model to drive/My Drive/menuitem_ner_model_epoch_47\n",
      "Epoch 48/50.\n",
      "------------\n",
      "loss -> {'ner': 89084.08218640089}\n",
      "Saved model to drive/My Drive/menuitem_ner_model_epoch_48\n",
      "Epoch 49/50.\n",
      "------------\n",
      "loss -> {'ner': 89256.73340308666}\n",
      "Saved model to drive/My Drive/menuitem_ner_model_epoch_49\n",
      "Epoch 50/50.\n",
      "------------\n",
      "loss -> {'ner': 87403.94001430273}\n",
      "Saved model to drive/My Drive/menuitem_ner_model_epoch_50\n"
     ]
    }
   ],
   "source": [
    "@plac.annotations(\n",
    "    model=(\"Model name. Defaults to blank 'en' model.\", \"option\", \"m\", str),\n",
    "    new_model_name=(\"New model name for model meta.\", \"option\", \"nm\", str),\n",
    "    output_dir=(\"Optional output directory\", \"option\", \"o\", Path),\n",
    "    n_iter=(\"Number of training iterations\", \"option\", \"n\", int))\n",
    "\n",
    "def main(model=None, new_model_name='model', output_dir='menuitem_ner_model', n_iter=50):\n",
    "    \"\"\"Set up the pipeline and entity recognizer, and train the new entity.\"\"\"\n",
    "    if model is not None:\n",
    "        nlp = spacy.load(model)  # load existing spaCy model\n",
    "        print(\"Loaded model '%s'\" % model)\n",
    "    else:\n",
    "        nlp = spacy.blank('en')  # create blank Language class\n",
    "        print(\"Created blank 'en' model\")\n",
    "\n",
    "    # Add entity recognizer to model if it's not in the pipeline\n",
    "    # nlp.create_pipe works for built-ins that are registered with spaCy\n",
    "    if 'ner' not in nlp.pipe_names:\n",
    "        ner = nlp.create_pipe('ner')\n",
    "        nlp.add_pipe(ner)\n",
    "    # otherwise, get it, so we can add labels to it\n",
    "    else:\n",
    "        ner = nlp.get_pipe('ner')\n",
    "    \n",
    "    for label in LABELS:\n",
    "        ner.add_label(label)   # add new entity label to entity recognizer\n",
    "\n",
    "    # get names of other pipes to disable them during training\n",
    "    random.seed(7)\n",
    "    other_pipes = [pipe for pipe in nlp.pipe_names if pipe != 'ner']\n",
    "    with nlp.disable_pipes(*other_pipes):  # only train NER\n",
    "        optimizer = nlp.begin_training()\n",
    "        for itn in range(n_iter):\n",
    "            print(f\"Epoch {itn+1}/{n_iter}.\\n------------\")\n",
    "            random.shuffle(train)\n",
    "            losses = {}\n",
    "            batches = minibatch(train, size=compounding(100.0, 500.0, 1.2))\n",
    "            for batch in batches:\n",
    "                texts, annotations = zip(*batch)\n",
    "                nlp.update(texts, \n",
    "                           annotations, \n",
    "                           sgd=optimizer, \n",
    "                           drop=0.35,\n",
    "                           losses=losses)\n",
    "            print(f\"loss -> {losses}\")\n",
    "            # print(\"Training metrics:\")\n",
    "            # get_scores(nlp, ner, train)\n",
    "            # print(\"\\nValidation metrics:\")\n",
    "            # get_scores(nlp, ner, val)\n",
    "            # print(\"=========================\")\n",
    "\n",
    "            # save model to output directory\n",
    "            output_dir_ = f\"drive/My Drive/{output_dir}_epoch_{itn+1}\"\n",
    "            if output_dir_ is not None:\n",
    "                output_dir_ = Path(output_dir_)\n",
    "                if not output_dir_.exists():\n",
    "                    output_dir_.mkdir()\n",
    "                nlp.meta['name'] = new_model_name  # rename model\n",
    "                nlp.to_disk(output_dir_)\n",
    "                print(\"Saved model to\", output_dir_)\n",
    "\n",
    "main()"
   ]
  },
  {
   "cell_type": "code",
   "execution_count": 37,
   "metadata": {
    "colab": {
     "base_uri": "https://localhost:8080/",
     "height": 1000
    },
    "colab_type": "code",
    "executionInfo": {
     "elapsed": 6902117,
     "status": "ok",
     "timestamp": 1593000753579,
     "user": {
      "displayName": "Bhavin Dhedhi",
      "photoUrl": "https://lh3.googleusercontent.com/a-/AOh14Gjfwoh1TXxZvXizF8btwvYi0H12CWXWrDJoFRgYag=s64",
      "userId": "03972606084619825646"
     },
     "user_tz": -330
    },
    "id": "E280UbOYjO3o",
    "outputId": "c7d127e6-168e-4d22-95c1-9730ff828f02"
   },
   "outputs": [
    {
     "name": "stdout",
     "output_type": "stream",
     "text": [
      "loading from drive/My Drive/menuitem_ner_model_epoch_35\n",
      "\n",
      "Validation metrics:\n",
      "P = 95.20\n",
      "R = 94.68\n",
      "F = 94.94\n",
      "=========================\n",
      "\n",
      "Test metrics:\n",
      "P = 95.12\n",
      "R = 94.54\n",
      "F = 94.83\n",
      "=========================\n",
      "loading from drive/My Drive/menuitem_ner_model_epoch_36\n",
      "\n",
      "Validation metrics:\n",
      "P = 94.89\n",
      "R = 94.96\n",
      "F = 94.92\n",
      "=========================\n",
      "\n",
      "Test metrics:\n",
      "P = 94.79\n",
      "R = 94.88\n",
      "F = 94.84\n",
      "=========================\n",
      "loading from drive/My Drive/menuitem_ner_model_epoch_37\n",
      "\n",
      "Validation metrics:\n",
      "P = 95.19\n",
      "R = 95.01\n",
      "F = 95.10\n",
      "=========================\n",
      "\n",
      "Test metrics:\n",
      "P = 95.14\n",
      "R = 94.91\n",
      "F = 95.03\n",
      "=========================\n",
      "loading from drive/My Drive/menuitem_ner_model_epoch_38\n",
      "\n",
      "Validation metrics:\n",
      "P = 94.84\n",
      "R = 94.73\n",
      "F = 94.78\n",
      "=========================\n",
      "\n",
      "Test metrics:\n",
      "P = 94.77\n",
      "R = 94.66\n",
      "F = 94.72\n",
      "=========================\n",
      "loading from drive/My Drive/menuitem_ner_model_epoch_39\n",
      "\n",
      "Validation metrics:\n",
      "P = 94.85\n",
      "R = 94.50\n",
      "F = 94.67\n",
      "=========================\n",
      "\n",
      "Test metrics:\n",
      "P = 94.76\n",
      "R = 94.38\n",
      "F = 94.57\n",
      "=========================\n",
      "loading from drive/My Drive/menuitem_ner_model_epoch_40\n",
      "\n",
      "Validation metrics:\n",
      "P = 95.17\n",
      "R = 95.00\n",
      "F = 95.09\n",
      "=========================\n",
      "\n",
      "Test metrics:\n",
      "P = 95.08\n",
      "R = 94.89\n",
      "F = 94.99\n",
      "=========================\n",
      "loading from drive/My Drive/menuitem_ner_model_epoch_41\n",
      "\n",
      "Validation metrics:\n",
      "P = 94.96\n",
      "R = 94.40\n",
      "F = 94.68\n",
      "=========================\n",
      "\n",
      "Test metrics:\n",
      "P = 94.94\n",
      "R = 94.38\n",
      "F = 94.66\n",
      "=========================\n",
      "loading from drive/My Drive/menuitem_ner_model_epoch_42\n",
      "\n",
      "Validation metrics:\n",
      "P = 95.16\n",
      "R = 94.80\n",
      "F = 94.98\n",
      "=========================\n",
      "\n",
      "Test metrics:\n",
      "P = 95.10\n",
      "R = 94.72\n",
      "F = 94.91\n",
      "=========================\n",
      "loading from drive/My Drive/menuitem_ner_model_epoch_43\n",
      "\n",
      "Validation metrics:\n",
      "P = 95.22\n",
      "R = 95.02\n",
      "F = 95.12\n",
      "=========================\n",
      "\n",
      "Test metrics:\n",
      "P = 95.17\n",
      "R = 94.96\n",
      "F = 95.06\n",
      "=========================\n",
      "loading from drive/My Drive/menuitem_ner_model_epoch_44\n",
      "\n",
      "Validation metrics:\n",
      "P = 95.33\n",
      "R = 94.56\n",
      "F = 94.94\n",
      "=========================\n",
      "\n",
      "Test metrics:\n",
      "P = 95.27\n",
      "R = 94.54\n",
      "F = 94.90\n",
      "=========================\n",
      "loading from drive/My Drive/menuitem_ner_model_epoch_45\n",
      "\n",
      "Validation metrics:\n",
      "P = 95.18\n",
      "R = 94.82\n",
      "F = 95.00\n",
      "=========================\n",
      "\n",
      "Test metrics:\n",
      "P = 95.12\n",
      "R = 94.80\n",
      "F = 94.96\n",
      "=========================\n",
      "loading from drive/My Drive/menuitem_ner_model_epoch_46\n",
      "\n",
      "Validation metrics:\n",
      "P = 95.37\n",
      "R = 94.98\n",
      "F = 95.18\n",
      "=========================\n",
      "\n",
      "Test metrics:\n",
      "P = 95.33\n",
      "R = 94.98\n",
      "F = 95.16\n",
      "=========================\n",
      "loading from drive/My Drive/menuitem_ner_model_epoch_47\n",
      "\n",
      "Validation metrics:\n",
      "P = 95.57\n",
      "R = 95.11\n",
      "F = 95.34\n",
      "=========================\n",
      "\n",
      "Test metrics:\n",
      "P = 95.51\n",
      "R = 95.11\n",
      "F = 95.31\n",
      "=========================\n",
      "loading from drive/My Drive/menuitem_ner_model_epoch_48\n",
      "\n",
      "Validation metrics:\n",
      "P = 95.30\n",
      "R = 94.73\n",
      "F = 95.01\n",
      "=========================\n",
      "\n",
      "Test metrics:\n",
      "P = 95.24\n",
      "R = 94.78\n",
      "F = 95.01\n",
      "=========================\n",
      "loading from drive/My Drive/menuitem_ner_model_epoch_49\n",
      "\n",
      "Validation metrics:\n",
      "P = 95.34\n",
      "R = 95.14\n",
      "F = 95.24\n",
      "=========================\n",
      "\n",
      "Test metrics:\n",
      "P = 95.36\n",
      "R = 95.20\n",
      "F = 95.28\n",
      "=========================\n",
      "loading from drive/My Drive/menuitem_ner_model_epoch_50\n",
      "\n",
      "Validation metrics:\n",
      "P = 95.63\n",
      "R = 95.09\n",
      "F = 95.36\n",
      "=========================\n",
      "\n",
      "Test metrics:\n",
      "P = 95.64\n",
      "R = 95.18\n",
      "F = 95.41\n",
      "=========================\n"
     ]
    }
   ],
   "source": [
    "for i in range(35, 51):\n",
    "    output_dir_ = f\"drive/My Drive/menuitem_ner_model_epoch_{i}\"\n",
    "    print(f\"loading from {output_dir_}\")\n",
    "    nlp = spacy.load(output_dir_)\n",
    "    ner = nlp.get_pipe(\"ner\")\n",
    "    # print(\"Training metrics:\")\n",
    "    # get_scores(nlp, ner, train)\n",
    "    print(\"\\nValidation metrics:\")\n",
    "    get_scores(nlp, ner, val)\n",
    "    print(\"=========================\")\n",
    "    print(\"\\nTest metrics:\")\n",
    "    get_scores(nlp, ner, test)\n",
    "    print(\"=========================\")"
   ]
  },
  {
   "cell_type": "code",
   "execution_count": 5,
   "metadata": {},
   "outputs": [
    {
     "name": "stdout",
     "output_type": "stream",
     "text": [
      "loading from menuitem_ner_model_epoch_50\n",
      "\n",
      "Validation metrics:\n",
      "P = 87.68\n",
      "R = 86.59\n",
      "F = 87.13\n",
      "=========================\n"
     ]
    }
   ],
   "source": [
    "val = srsly.read_json(\"annotated_data_ci_w_no_cuisine_menus.json\")\n",
    "\n",
    "output_dir_ = f\"menuitem_ner_model_epoch_50\"\n",
    "print(f\"loading from {output_dir_}\")\n",
    "nlp = spacy.load(output_dir_)\n",
    "ner = nlp.get_pipe(\"ner\")\n",
    "# print(\"Training metrics:\")\n",
    "# get_scores(nlp, ner, train)\n",
    "print(\"\\nValidation metrics:\")\n",
    "get_scores(nlp, ner, val)\n",
    "print(\"=========================\")"
   ]
  },
  {
   "cell_type": "code",
   "execution_count": null,
   "metadata": {
    "colab": {},
    "colab_type": "code",
    "id": "f1U8YuODl31e"
   },
   "outputs": [],
   "source": []
  },
  {
   "cell_type": "code",
   "execution_count": 4,
   "metadata": {
    "colab": {},
    "colab_type": "code",
    "executionInfo": {
     "elapsed": 1408,
     "status": "ok",
     "timestamp": 1592989932219,
     "user": {
      "displayName": "Bhavin Dhedhi",
      "photoUrl": "https://lh3.googleusercontent.com/a-/AOh14Gjfwoh1TXxZvXizF8btwvYi0H12CWXWrDJoFRgYag=s64",
      "userId": "03972606084619825646"
     },
     "user_tz": -330
    },
    "id": "PFj9Kv1Yzij5"
   },
   "outputs": [],
   "source": [
    "def preprocess_reviews(review: str) -> str:\n",
    "    review = unidecode.unidecode(review + \" \").lower()\\\n",
    "                                              .replace(\"&\", \"and\")\\\n",
    "                                              .replace(\"-\", \" \")\\\n",
    "                                              .replace(\" w/\", \" with \")\n",
    "\n",
    "    review = re.sub('\\*|\\\"|\\$|#', '', review)\n",
    "    review = re.sub(r'(\\W)(?=\\1)', '', review)\n",
    "\n",
    "    review = ' '.join(review.split())\n",
    "\n",
    "    return review"
   ]
  },
  {
   "cell_type": "code",
   "execution_count": 39,
   "metadata": {
    "colab": {
     "base_uri": "https://localhost:8080/",
     "height": 221
    },
    "colab_type": "code",
    "executionInfo": {
     "elapsed": 1249,
     "status": "ok",
     "timestamp": 1593006001696,
     "user": {
      "displayName": "Bhavin Dhedhi",
      "photoUrl": "https://lh3.googleusercontent.com/a-/AOh14Gjfwoh1TXxZvXizF8btwvYi0H12CWXWrDJoFRgYag=s64",
      "userId": "03972606084619825646"
     },
     "user_tz": -330
    },
    "id": "ZND0PZhDmW1B",
    "outputId": "128bfd40-1da3-4017-d3b2-b1ee27e27ba0"
   },
   "outputs": [
    {
     "name": "stdout",
     "output_type": "stream",
     "text": [
      "menuitem  ->  mimosas\n",
      "menuitem  ->  breakfast burrito\n",
      "menuitem  ->  chorizo\n",
      "menuitem  ->  green chili pork\n",
      "menuitem  ->  potatoes\n",
      "menuitem  ->  flour tortilla\n",
      "menuitem  ->  enchilada\n",
      "menuitem  ->  mini\n",
      "menuitem  ->  donuts\n",
      "menuitem  ->  chocolate\n",
      "menuitem  ->  caramel\n",
      "menuitem  ->  raspberry\n"
     ]
    }
   ],
   "source": [
    "# test the saved model\n",
    "# nlp = spacy.load('drive/My Drive/menuitem_ner_model_epoch_50')\n",
    "\n",
    "\n",
    "\n",
    "review = \"First time here for brunch .. located inside the Valley Ho hotel in Downtown Scottsdale area. This hotel has a retro cool vibe. We were seated by the bar in big lounge chairs.. perfect for relaxing with a drink but a bit awkward for brunch .. the service was great, the people watching, the relaxed vibe and the mimosas were exactly what we were looking for. I had the breakfast burrito with chorizo, green chili pork, potatoes wrapped in a flour tortilla and covered in enchilada sauce.. it was huge and delicious! We also split an order of the mini donuts.. they arrive warm with chocolate, caramel, raspberry and marshmallow for dipping .. We will definitely be back for brunch again soon .. a staycation at the Valley Ho is a must after seeing the pool area!!\"\n",
    "review = preprocess_reviews(review)\n",
    "\n",
    "doc = nlp(review)\n",
    "for ent in doc.ents:\n",
    "    print(ent.label_, \" -> \", ent.text)"
   ]
  },
  {
   "cell_type": "code",
   "execution_count": 27,
   "metadata": {
    "colab": {
     "base_uri": "https://localhost:8080/",
     "height": 54
    },
    "colab_type": "code",
    "executionInfo": {
     "elapsed": 2072827,
     "status": "ok",
     "timestamp": 1592899658749,
     "user": {
      "displayName": "Bhavin Dhedhi",
      "photoUrl": "https://lh3.googleusercontent.com/a-/AOh14Gjfwoh1TXxZvXizF8btwvYi0H12CWXWrDJoFRgYag=s64",
      "userId": "03972606084619825646"
     },
     "user_tz": -330
    },
    "id": "hyvtgXSEzikD",
    "outputId": "eedffd30-ca74-4b84-9cc2-b30e08681eb4"
   },
   "outputs": [
    {
     "name": "stdout",
     "output_type": "stream",
     "text": [
      "{'uas': 0.0, 'las': 0.0, 'las_per_type': {'': {'p': 0.0, 'r': 0.0, 'f': 0.0}}, 'ents_p': 94.72118865171166, 'ents_r': 94.26966235621343, 'ents_f': 94.49488612336701, 'ents_per_type': {'menuitem': {'p': 94.72118865171166, 'r': 94.26966235621343, 'f': 94.49488612336701}}, 'tags_acc': 0.0, 'token_acc': 100.0, 'textcat_score': 0.0, 'textcats_per_cat': {}}\n"
     ]
    }
   ],
   "source": [
    "# validation\n",
    "from spacy.gold import GoldParse\n",
    "from spacy.scorer import Scorer\n",
    "\n",
    "def evaluate(ner_model, examples):\n",
    "    scorer = Scorer()\n",
    "    for input_, annot in examples:\n",
    "        doc_gold_text = ner_model.make_doc(input_)\n",
    "        gold = GoldParse(doc_gold_text, entities=annot[\"entities\"])\n",
    "        pred_value = ner_model(input_)\n",
    "        scorer.score(pred_value, gold)\n",
    "    return scorer.scores\n",
    "\n",
    "# example run\n",
    "\n",
    "examples = TRAIN_DATA\n",
    "\n",
    "ner_model = spacy.load('output_epoch_10')\n",
    "results = evaluate(ner_model, examples)\n",
    "print(results)"
   ]
  }
 ],
 "metadata": {
  "accelerator": "GPU",
  "colab": {
   "collapsed_sections": [],
   "name": "menu_items_ner.ipynb",
   "provenance": [],
   "toc_visible": true
  },
  "kernelspec": {
   "display_name": "yelp_ner (python 3.6.5)",
   "language": "python",
   "name": "yelp_ner"
  },
  "language_info": {
   "codemirror_mode": {
    "name": "ipython",
    "version": 3
   },
   "file_extension": ".py",
   "mimetype": "text/x-python",
   "name": "python",
   "nbconvert_exporter": "python",
   "pygments_lexer": "ipython3",
   "version": "3.6.5"
  }
 },
 "nbformat": 4,
 "nbformat_minor": 4
}

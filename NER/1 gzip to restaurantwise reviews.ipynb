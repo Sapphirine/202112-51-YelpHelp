{
 "cells": [
  {
   "cell_type": "code",
   "execution_count": 2,
   "metadata": {},
   "outputs": [],
   "source": [
    "import jsonlines\n",
    "import gzip\n",
    "from collections import defaultdict\n",
    "import glob"
   ]
  },
  {
   "cell_type": "code",
   "execution_count": 3,
   "metadata": {},
   "outputs": [],
   "source": [
    "# TODO: use srsly"
   ]
  },
  {
   "cell_type": "code",
   "execution_count": 4,
   "metadata": {},
   "outputs": [],
   "source": [
    "a = defaultdict(list)\n",
    "count = defaultdict()\n",
    "files = glob.glob(\"scraped_reviews/Chicago, IL/*.jl.gz\")\n",
    "\n",
    "for filename in files:\n",
    "    with gzip.open(filename, 'r') as f:\n",
    "        reader = jsonlines.Reader(f)\n",
    "        for o in reader:\n",
    "            count[o[\"business_alias\"]] = count.get(o[\"business_alias\"], 1) + 1\n",
    "            a[o[\"business_alias\"]].append(o)\n",
    "\n",
    "for k, v in a.items():\n",
    "    with jsonlines.open(f\"./restaurant wise reviews/Chicago, IL/{k}.jsonl\", mode='w') as writer:\n",
    "        writer.write_all(v)"
   ]
  },
  {
   "cell_type": "code",
   "execution_count": 5,
   "metadata": {},
   "outputs": [],
   "source": [
    "a = defaultdict(list)\n",
    "count = defaultdict()\n",
    "files = glob.glob(\"scraped_reviews/Phoenix, AZ/*.jl.gz\")\n",
    "\n",
    "for filename in files:\n",
    "    with gzip.open(filename, 'r') as f:\n",
    "        reader = jsonlines.Reader(f)\n",
    "        for o in reader:\n",
    "            count[o[\"business_alias\"]] = count.get(o[\"business_alias\"], 1) + 1\n",
    "            a[o[\"business_alias\"]].append(o)\n",
    "\n",
    "for k, v in a.items():\n",
    "    with jsonlines.open(f\"./restaurant wise reviews/Phoenix, AZ/{k}.jsonl\", mode='w') as writer:\n",
    "        writer.write_all(v)"
   ]
  }
 ],
 "metadata": {
  "kernelspec": {
   "display_name": "Python (yelp - 3.6.5)",
   "language": "python",
   "name": "yelp"
  },
  "language_info": {
   "codemirror_mode": {
    "name": "ipython",
    "version": 3
   },
   "file_extension": ".py",
   "mimetype": "text/x-python",
   "name": "python",
   "nbconvert_exporter": "python",
   "pygments_lexer": "ipython3",
   "version": "3.6.5"
  }
 },
 "nbformat": 4,
 "nbformat_minor": 4
}

{
 "cells": [
  {
   "cell_type": "code",
   "execution_count": 1,
   "metadata": {},
   "outputs": [],
   "source": [
    "import spacy\n",
    "from spacy.util import filter_spans\n",
    "import unidecode\n",
    "from collections import defaultdict\n",
    "import re\n",
    "import srsly\n",
    "from datetime import datetime\n",
    "from glob import glob\n",
    "import os"
   ]
  },
  {
   "cell_type": "code",
   "execution_count": 4,
   "metadata": {},
   "outputs": [],
   "source": [
    "def preprocess_reviews(review: str) -> str:\n",
    "    review = unidecode.unidecode(review + \" \").lower()\\\n",
    "                                              .replace(\"&\", \"and\")\\\n",
    "                                              .replace(\"-\", \" \")\\\n",
    "                                              .replace(\" w/\", \" with \")\n",
    "\n",
    "    review = re.sub('\\*|\\\"|\\$|#', '', review)\n",
    "    review = re.sub(r'(\\W)(?=\\1)', '', review)\n",
    "\n",
    "    review = ' '.join(review.split())\n",
    "\n",
    "    return review"
   ]
  },
  {
   "cell_type": "code",
   "execution_count": 5,
   "metadata": {},
   "outputs": [],
   "source": [
    "nlp = spacy.load('../NER/menuitem_ner_model_epoch_50')"
   ]
  },
  {
   "cell_type": "code",
   "execution_count": 8,
   "metadata": {},
   "outputs": [],
   "source": [
    "# detecting food items for all reviews\n",
    "for file_name in glob(\"../NER/restaurant wise reviews/*/*.jsonl\"):\n",
    "    data = srsly.read_jsonl(file_name)\n",
    "    data_ann = []\n",
    "    for d in data:\n",
    "        review = d.get(\"review\")\n",
    "        review = preprocess_reviews(review)\n",
    "        doc = nlp(review)\n",
    "\n",
    "        entities = list(set(ent.text for ent in filter_spans(doc.ents)))\n",
    "\n",
    "        r_data = {k:v for k, v in d.items() if k != \"review\"}\n",
    "        r_data[\"review\"] = doc.text\n",
    "        r_data[\"entities\"] = entities\n",
    "\n",
    "        data_ann.append(r_data)\n",
    "        \n",
    "    if not os.path.exists(\"reviews with detected entities\"):\n",
    "        os.mkdir(\"reviews with detected entities\")\n",
    "        \n",
    "    file_dir = os.path.join(\"reviews with detected entities\", file_name.split(\"\\\\\")[-2])\n",
    "    \n",
    "    if not os.path.exists(file_dir):\n",
    "        os.mkdir(file_dir)\n",
    "                 \n",
    "    srsly.write_jsonl(os.path.join(file_dir, file_name.split(\"\\\\\")[-1]), data_ann)"
   ]
  },
  {
   "cell_type": "markdown",
   "metadata": {},
   "source": [
    "## Number of reviews pre vs post covid"
   ]
  },
  {
   "cell_type": "code",
   "execution_count": 7,
   "metadata": {},
   "outputs": [],
   "source": [
    "num_reviews = {\"Chicago, IL\" : {}, \"Phoenix, AZ\" : {}}\n",
    "num_reviews_food = {\"Chicago, IL\" : {}, \"Phoenix, AZ\" : {}}"
   ]
  },
  {
   "cell_type": "code",
   "execution_count": 8,
   "metadata": {},
   "outputs": [],
   "source": [
    "pre_covid_start_date = datetime(year = 2019, month=12, day=1)\n",
    "pre_covid_end_date = datetime(year = 2020, month=2, day=29)\n",
    "\n",
    "for file_name in glob(\"reviews with detected entities/*/*.jsonl\"):\n",
    "    data = srsly.read_jsonl(file_name)\n",
    "    location = file_name.split(\"\\\\\")[-2]\n",
    "    business_name = file_name.split(\"\\\\\")[-1].split(\".\")[0]\n",
    "    \n",
    "    monthwise_num_reviews = defaultdict(int)\n",
    "    monthwise_num_reviews_food = defaultdict(int)\n",
    "    \n",
    "    for d in data:\n",
    "        date = datetime.strptime(d.get(\"date\"), \"%Y-%m-%d\")\n",
    "        \n",
    "        if (date >= pre_covid_start_date):\n",
    "            ent = d.get(\"entities\")\n",
    "            month = date.month\n",
    "            \n",
    "            monthwise_num_reviews[month] += 1\n",
    "\n",
    "            if len(ent) != 0 :\n",
    "                monthwise_num_reviews_food[month] += 1\n",
    "                    \n",
    "    num_reviews[location][business_name] = {\"total\" : dict(monthwise_num_reviews), \n",
    "                                            \"food\" : dict(monthwise_num_reviews_food)}"
   ]
  },
  {
   "cell_type": "code",
   "execution_count": 3,
   "metadata": {},
   "outputs": [],
   "source": [
    "import pandas as pd"
   ]
  },
  {
   "cell_type": "code",
   "execution_count": 92,
   "metadata": {},
   "outputs": [],
   "source": [
    "data_df = {\"location\":[],\"type\":[],12:[],1:[],2:[],3:[],4:[],5:[]}\n",
    "\n",
    "for loc, v in num_reviews.items():\n",
    "\n",
    "    total = defaultdict(int)\n",
    "    food = defaultdict(int)\n",
    "    for i in v.values():\n",
    "        for f_t, dict_m in i.items():\n",
    "            if f_t == \"food\":\n",
    "                for month, count in dict_m.items():\n",
    "                    food[month] += count\n",
    "            if f_t == \"total\":\n",
    "                for month, count in dict_m.items():\n",
    "                    total[month] += count\n",
    "                    \n",
    "    data_df[\"location\"].extend([loc] * 2)\n",
    "    data_df[\"type\"].append(\"total\")\n",
    "    for month, count in total.items():\n",
    "        if month!=6:\n",
    "            data_df[month].append(count)\n",
    "    \n",
    "    data_df[\"type\"].append(\"food\")\n",
    "    for month, count in food.items():\n",
    "        if month!=6:\n",
    "            data_df[month].append(count)\n",
    "            \n",
    "reviews_count_df = pd.DataFrame(data_df).set_index([\"location\", \"type\"])"
   ]
  },
  {
   "cell_type": "code",
   "execution_count": 93,
   "metadata": {},
   "outputs": [
    {
     "data": {
      "text/html": [
       "<div>\n",
       "<style scoped>\n",
       "    .dataframe tbody tr th:only-of-type {\n",
       "        vertical-align: middle;\n",
       "    }\n",
       "\n",
       "    .dataframe tbody tr th {\n",
       "        vertical-align: top;\n",
       "    }\n",
       "\n",
       "    .dataframe thead th {\n",
       "        text-align: right;\n",
       "    }\n",
       "</style>\n",
       "<table border=\"1\" class=\"dataframe\">\n",
       "  <thead>\n",
       "    <tr style=\"text-align: right;\">\n",
       "      <th></th>\n",
       "      <th></th>\n",
       "      <th>12</th>\n",
       "      <th>1</th>\n",
       "      <th>2</th>\n",
       "      <th>3</th>\n",
       "      <th>4</th>\n",
       "      <th>5</th>\n",
       "    </tr>\n",
       "    <tr>\n",
       "      <th>location</th>\n",
       "      <th>type</th>\n",
       "      <th></th>\n",
       "      <th></th>\n",
       "      <th></th>\n",
       "      <th></th>\n",
       "      <th></th>\n",
       "      <th></th>\n",
       "    </tr>\n",
       "  </thead>\n",
       "  <tbody>\n",
       "    <tr>\n",
       "      <th rowspan=\"2\" valign=\"top\">Chicago, IL</th>\n",
       "      <th>total</th>\n",
       "      <td>5485</td>\n",
       "      <td>5280</td>\n",
       "      <td>5068</td>\n",
       "      <td>3195</td>\n",
       "      <td>1482</td>\n",
       "      <td>1653</td>\n",
       "    </tr>\n",
       "    <tr>\n",
       "      <th>food</th>\n",
       "      <td>4739</td>\n",
       "      <td>4564</td>\n",
       "      <td>4357</td>\n",
       "      <td>2773</td>\n",
       "      <td>1283</td>\n",
       "      <td>1390</td>\n",
       "    </tr>\n",
       "    <tr>\n",
       "      <th rowspan=\"2\" valign=\"top\">Phoenix, AZ</th>\n",
       "      <th>total</th>\n",
       "      <td>5226</td>\n",
       "      <td>5460</td>\n",
       "      <td>5994</td>\n",
       "      <td>3696</td>\n",
       "      <td>1549</td>\n",
       "      <td>1545</td>\n",
       "    </tr>\n",
       "    <tr>\n",
       "      <th>food</th>\n",
       "      <td>4314</td>\n",
       "      <td>4530</td>\n",
       "      <td>4861</td>\n",
       "      <td>3022</td>\n",
       "      <td>1284</td>\n",
       "      <td>1224</td>\n",
       "    </tr>\n",
       "  </tbody>\n",
       "</table>\n",
       "</div>"
      ],
      "text/plain": [
       "                     12    1     2     3     4     5 \n",
       "location    type                                     \n",
       "Chicago, IL total  5485  5280  5068  3195  1482  1653\n",
       "            food   4739  4564  4357  2773  1283  1390\n",
       "Phoenix, AZ total  5226  5460  5994  3696  1549  1545\n",
       "            food   4314  4530  4861  3022  1284  1224"
      ]
     },
     "execution_count": 93,
     "metadata": {},
     "output_type": "execute_result"
    }
   ],
   "source": [
    "reviews_count_df"
   ]
  },
  {
   "cell_type": "code",
   "execution_count": 10,
   "metadata": {},
   "outputs": [],
   "source": [
    "data_df = {\"location\":[],\"type\":[],12:[],1:[],2:[],3:[],4:[],5:[]}\n",
    "\n",
    "for loc, v in num_reviews.items():\n",
    "\n",
    "    total = defaultdict(int)\n",
    "    food = defaultdict(int)\n",
    "    for i in v.values():\n",
    "        for f_t, dict_m in i.items():\n",
    "            if dict_m.get(3) and dict_m.get(4) and dict_m.get(5):\n",
    "                if f_t == \"food\":\n",
    "\n",
    "                    for month, count in dict_m.items():\n",
    "                        food[month] += count\n",
    "                if f_t == \"total\":\n",
    "                    for month, count in dict_m.items():\n",
    "                        total[month] += count\n",
    "                    \n",
    "    data_df[\"location\"].extend([loc] * 2)\n",
    "    data_df[\"type\"].append(\"total\")\n",
    "    for month, count in total.items():\n",
    "        if month!=6:\n",
    "            data_df[month].append(count)\n",
    "    \n",
    "    data_df[\"type\"].append(\"food\")\n",
    "    for month, count in food.items():\n",
    "        if month!=6:\n",
    "            data_df[month].append(count)\n",
    "            \n",
    "reviews_count_df = pd.DataFrame(data_df).set_index([\"location\", \"type\"])"
   ]
  },
  {
   "cell_type": "code",
   "execution_count": 106,
   "metadata": {},
   "outputs": [
    {
     "data": {
      "text/html": [
       "<div>\n",
       "<style scoped>\n",
       "    .dataframe tbody tr th:only-of-type {\n",
       "        vertical-align: middle;\n",
       "    }\n",
       "\n",
       "    .dataframe tbody tr th {\n",
       "        vertical-align: top;\n",
       "    }\n",
       "\n",
       "    .dataframe thead th {\n",
       "        text-align: right;\n",
       "    }\n",
       "</style>\n",
       "<table border=\"1\" class=\"dataframe\">\n",
       "  <thead>\n",
       "    <tr style=\"text-align: right;\">\n",
       "      <th></th>\n",
       "      <th></th>\n",
       "      <th>12</th>\n",
       "      <th>1</th>\n",
       "      <th>2</th>\n",
       "      <th>3</th>\n",
       "      <th>4</th>\n",
       "      <th>5</th>\n",
       "    </tr>\n",
       "    <tr>\n",
       "      <th>location</th>\n",
       "      <th>type</th>\n",
       "      <th></th>\n",
       "      <th></th>\n",
       "      <th></th>\n",
       "      <th></th>\n",
       "      <th></th>\n",
       "      <th></th>\n",
       "    </tr>\n",
       "  </thead>\n",
       "  <tbody>\n",
       "    <tr>\n",
       "      <th rowspan=\"2\" valign=\"top\">Chicago, IL</th>\n",
       "      <th>total</th>\n",
       "      <td>3159</td>\n",
       "      <td>3067</td>\n",
       "      <td>2862</td>\n",
       "      <td>1961</td>\n",
       "      <td>1175</td>\n",
       "      <td>1257</td>\n",
       "    </tr>\n",
       "    <tr>\n",
       "      <th>food</th>\n",
       "      <td>2605</td>\n",
       "      <td>2497</td>\n",
       "      <td>2356</td>\n",
       "      <td>1622</td>\n",
       "      <td>990</td>\n",
       "      <td>1026</td>\n",
       "    </tr>\n",
       "    <tr>\n",
       "      <th rowspan=\"2\" valign=\"top\">Phoenix, AZ</th>\n",
       "      <th>total</th>\n",
       "      <td>2950</td>\n",
       "      <td>3089</td>\n",
       "      <td>3325</td>\n",
       "      <td>2194</td>\n",
       "      <td>1201</td>\n",
       "      <td>1177</td>\n",
       "    </tr>\n",
       "    <tr>\n",
       "      <th>food</th>\n",
       "      <td>2228</td>\n",
       "      <td>2389</td>\n",
       "      <td>2465</td>\n",
       "      <td>1685</td>\n",
       "      <td>917</td>\n",
       "      <td>884</td>\n",
       "    </tr>\n",
       "  </tbody>\n",
       "</table>\n",
       "</div>"
      ],
      "text/plain": [
       "                     12    1     2     3     4     5 \n",
       "location    type                                     \n",
       "Chicago, IL total  3159  3067  2862  1961  1175  1257\n",
       "            food   2605  2497  2356  1622   990  1026\n",
       "Phoenix, AZ total  2950  3089  3325  2194  1201  1177\n",
       "            food   2228  2389  2465  1685   917   884"
      ]
     },
     "execution_count": 106,
     "metadata": {},
     "output_type": "execute_result"
    }
   ],
   "source": [
    "reviews_count_df"
   ]
  },
  {
   "cell_type": "code",
   "execution_count": 35,
   "metadata": {},
   "outputs": [],
   "source": [
    "from urllib.parse import unquote"
   ]
  },
  {
   "cell_type": "code",
   "execution_count": 64,
   "metadata": {},
   "outputs": [],
   "source": [
    "rest_info = pd.read_csv(\"../databases/restaurants_info.csv\")\n",
    "rest_info.loc[:,\"url\"] = rest_info.url.str.apply(lambda x: unquote(x)[5:])\n",
    "rest_info.loc[:,\"categories\"] = rest_info.categories.str.lower()\n",
    "rest_info.loc[:,\"categories\"] = rest_info.categories.str.split(\", \")"
   ]
  },
  {
   "cell_type": "code",
   "execution_count": 57,
   "metadata": {},
   "outputs": [
    {
     "name": "stdout",
     "output_type": "stream",
     "text": [
      "Chicago, IL\n",
      "dave-and-busters-chicago-4\n",
      "Phoenix, AZ\n"
     ]
    }
   ],
   "source": [
    "data_df = {}\n",
    "for loc, v in num_reviews.items():\n",
    "    print(loc)\n",
    "    total = defaultdict(lambda: defaultdict(int))\n",
    "    \n",
    "    for rest, i in v.items():\n",
    "        try:\n",
    "            cuisines_list = rest_info[rest_info.url == rest].categories.values[0]\n",
    "\n",
    "            for f_t, dict_m in i.items():\n",
    "                if f_t == \"total\":\n",
    "                    for month, count in dict_m.items():\n",
    "                        for cuisine in cuisines_list:\n",
    "                            total[month][cuisine] += count\n",
    "        except:\n",
    "            print(rest)\n",
    "\n",
    "    total = {k:dict(sorted(v.items(), key=lambda k_v:k_v[1], reverse=True)[:10]) for k, v in total.items()}\n",
    "    data_df[loc] = pd.DataFrame({**{k:list(tuple(v.keys())) for k, v in total.items()},\n",
    "                                 **{str(k)+\"_\":list(tuple(v.values())) for k, v in total.items()}})[[12,\"12_\",1,\n",
    "                                                                                                                   \"1_\",2,\"2_\",3,\n",
    "                                                                                                                   \"3_\",4,\"4_\",5,\"5_\"]]"
   ]
  },
  {
   "cell_type": "code",
   "execution_count": 58,
   "metadata": {},
   "outputs": [],
   "source": [
    "data_df[\"Chicago, IL\"].to_csv(\"cuisines_chicago.csv\")\n",
    "data_df[\"Phoenix, AZ\"].to_csv(\"cuisines_phoenix.csv\")"
   ]
  },
  {
   "cell_type": "markdown",
   "metadata": {},
   "source": [
    "## getting ingredients"
   ]
  },
  {
   "cell_type": "code",
   "execution_count": 14,
   "metadata": {},
   "outputs": [],
   "source": [
    "import pickle\n",
    "with open(\"../NER/restaurants_menus_df.pkl\", \"rb\") as f:\n",
    "    menus = pickle.load(f)"
   ]
  },
  {
   "cell_type": "code",
   "execution_count": 15,
   "metadata": {},
   "outputs": [
    {
     "data": {
      "text/plain": [
       "0       {'food_items': {'Pizza': [{'name': '16\" new yo...\n",
       "1       {'food_items': {'Breads': [{'name': 'grinder r...\n",
       "2       {'food_items': {'Salads': [{'desc': 'Chopped R...\n",
       "3       {'food_items': {'Wine': [{'name': 'sparkling c...\n",
       "4       {'food_items': {'Add-Ons': [{'desc': 'Apple-Gr...\n",
       "                              ...                        \n",
       "1066    {'food_items': {'Paninis': [{'desc': 'Ham, bac...\n",
       "1067    {'food_items': {'Appetizers': [{'desc': 'Marin...\n",
       "1068    {'food_items': {'-': [{'desc': \"Chairman's Res...\n",
       "1069    {'food_items': {'Sides': [{'desc': 'Choice of ...\n",
       "1070    {'food_items': {'Salad': [{'name': 'house sala...\n",
       "Name: menu, Length: 1071, dtype: object"
      ]
     },
     "execution_count": 15,
     "metadata": {},
     "output_type": "execute_result"
    }
   ],
   "source": [
    "menus.menu"
   ]
  },
  {
   "cell_type": "code",
   "execution_count": 5,
   "metadata": {},
   "outputs": [],
   "source": [
    "import re"
   ]
  },
  {
   "cell_type": "code",
   "execution_count": 17,
   "metadata": {},
   "outputs": [],
   "source": [
    "def remove_any_brackets(item):\n",
    "    ret = ''\n",
    "    skip1c = 0\n",
    "    skip2c = 0\n",
    "    for i in item:\n",
    "        if i == '[':\n",
    "            skip1c += 1\n",
    "        elif i == '(':\n",
    "            skip2c += 1\n",
    "        elif i == ']' and skip1c > 0:\n",
    "            skip1c -= 1\n",
    "        elif i == ')'and skip2c > 0:\n",
    "            skip2c -= 1\n",
    "        elif skip1c == 0 and skip2c == 0:\n",
    "            ret += i\n",
    "    return ret\n",
    "\n",
    "def preprocess_menu_items(item):\n",
    "    # remove content of brackets and detect 0 length string\n",
    "    item = remove_any_brackets(item).strip()\n",
    "    len_item = len(item)\n",
    "    \n",
    "    if (len_item > 70) | (len_item < 3):\n",
    "        # not considering string with length more than 50\n",
    "        return \"\"\n",
    "    else:\n",
    "        item = unidecode.unidecode(item + \" \")\\\n",
    "                                        .replace(\".\", \". \")\\\n",
    "                                        .replace(\"-\", \" \")\n",
    "        to_remove = [f'\\*|\\\"|\\$|#', # remove * and \" and $ and #\n",
    "                     f'\\d+\\s*(lb|pounds|pound|oz|ounces|ounce|inches|inch'\n",
    "                             f'|grams|gram|pcs|pieces|piece|each|cup'\n",
    "                             f'|bowl|scoops|scoop|pot|liters|liter'\n",
    "                             f'|or less|off)\\s*((of)*)\\.*\\s+',\n",
    "                     f'\\s*\\S*[0-9]\\S*'] # remove anyword with digits in it\n",
    "                     \n",
    "        for pattern in to_remove:\n",
    "            item = re.sub(pattern, ' ', item)\n",
    "        \n",
    "        item = ' '.join(item.replace(\".\", \"\").split())\n",
    "        \n",
    "        if len(item) < 3:\n",
    "            return \"\"\n",
    "        else:\n",
    "            return re.split(r'\\s+and\\s+|\\s*with\\s+', item)"
   ]
  },
  {
   "cell_type": "code",
   "execution_count": 286,
   "metadata": {},
   "outputs": [],
   "source": [
    "ingred = set()\n",
    "for menu in menus.menu:\n",
    "    items_lists = menu[\"food_items\"].values()\n",
    "    for items_list in items_lists:\n",
    "        desc_list = []\n",
    "        for item in items_list:\n",
    "            desc = \" \".join(item.get(\"desc\", \"\").split()).lower().replace(\"&\", \" and \").replace(\"w/\", \" with \")\n",
    "            desc = re.split(r'\\s+and\\s+|\\s*with\\s+|,|\\/\\/|\\||\\/|\\+', desc)\n",
    "            desc_list.extend(desc)\n",
    "#         if \" and  \" in \" \".join([\" \".join(i) for i in desc]):\n",
    "#             print(desc)\n",
    "        for i in desc_list:\n",
    "            ingred |= set([j for j in preprocess_menu_items(i) if j != \"\"])"
   ]
  },
  {
   "cell_type": "code",
   "execution_count": 287,
   "metadata": {},
   "outputs": [],
   "source": [
    "pd.DataFrame(list(ingred), columns=[\"ingredient\"]).to_csv(\"ingredients.csv\", index=False, columns=[\"ingredient\"])"
   ]
  },
  {
   "cell_type": "markdown",
   "metadata": {},
   "source": [
    "## food items trend"
   ]
  },
  {
   "cell_type": "code",
   "execution_count": 33,
   "metadata": {},
   "outputs": [],
   "source": [
    "from rapidfuzz import fuzz\n",
    "from rapidfuzz import process"
   ]
  },
  {
   "cell_type": "code",
   "execution_count": 323,
   "metadata": {},
   "outputs": [],
   "source": [
    "ingred = list(ingred)"
   ]
  },
  {
   "cell_type": "code",
   "execution_count": 340,
   "metadata": {},
   "outputs": [],
   "source": [
    "ingred_list = [i for i in ingred if len(i) <= 30]"
   ]
  },
  {
   "cell_type": "code",
   "execution_count": 351,
   "metadata": {},
   "outputs": [],
   "source": [
    "ingred_list.append(\"the burger\")"
   ]
  },
  {
   "cell_type": "code",
   "execution_count": 357,
   "metadata": {},
   "outputs": [
    {
     "data": {
      "text/plain": [
       "41169"
      ]
     },
     "execution_count": 357,
     "metadata": {},
     "output_type": "execute_result"
    }
   ],
   "source": [
    "len(ingred_list)"
   ]
  },
  {
   "cell_type": "code",
   "execution_count": 356,
   "metadata": {},
   "outputs": [],
   "source": [
    "for file_name in glob(\"reviews with detected entities/*/*.jsonl\"):\n",
    "    data = srsly.read_jsonl(file_name)\n",
    "    data_ann = []\n",
    "    for d in data:\n",
    "        date = datetime.strptime(d.get(\"date\"), \"%Y-%m-%d\")\n",
    "        if date >= datetime(year = 2019, month=12, day=1):\n",
    "            entities = d.get(\"entities\")\n",
    "            entities = [ent for ent in entities if not process.extractOne(ent, ingred_list, score_cutoff=95.0)]\n",
    "\n",
    "            r_data = {k:v for k, v in d.items() if k != \"entities\"}\n",
    "            r_data[\"entities\"] = entities\n",
    "\n",
    "            data_ann.append(r_data)\n",
    "\n",
    "    if not os.path.exists(\"reviews with ingreds removed\"):\n",
    "        os.mkdir(\"reviews with ingreds removed\")\n",
    "\n",
    "    file_dir = os.path.join(\"reviews with ingreds removed\", file_name.split(\"\\\\\")[-2])\n",
    "\n",
    "    if not os.path.exists(file_dir):\n",
    "        os.mkdir(file_dir)\n",
    "\n",
    "    srsly.write_jsonl(os.path.join(file_dir, file_name.split(\"\\\\\")[-1]), data_ann)"
   ]
  },
  {
   "cell_type": "code",
   "execution_count": 29,
   "metadata": {},
   "outputs": [],
   "source": [
    "top_food_items_df = {}\n",
    "\n",
    "for loc in [\"Chicago, IL\", \"Phoenix, AZ\"]:\n",
    "    top_food_items_dict = defaultdict(lambda: defaultdict(int))\n",
    "    \n",
    "    for file_name in glob(f\"reviews with ingreds removed/{loc}/*.jsonl\"):\n",
    "        data = srsly.read_jsonl(file_name)\n",
    "\n",
    "        for d in data:\n",
    "            month = datetime.strptime(d.get(\"date\"), \"%Y-%m-%d\").month\n",
    "            for item in d.get(\"entities\"):\n",
    "                if item not in [\"meal\", \"happy hour\", \"a special\", \"date night\", \"authentic\", \n",
    "                                \"the street\", \"deep dish\", \"the chicago\"]:\n",
    "                    top_food_items_dict[month][item] += 1\n",
    "                \n",
    "    top_food_items_dict = {k:dict(sorted(v.items(), \n",
    "                                         key=lambda k_v:k_v[1], \n",
    "                                         reverse=True)) \n",
    "                           for k, v in top_food_items_dict.items()}\n",
    "#     print(top_food_items_dict)\n",
    "\n",
    "#     top_food_items_df[loc] = pd.DataFrame({k:list(tuple(v.items())) for k, v in top_food_items_dict.items()})[[12,1,2,3,4,5]]\n",
    "    \n",
    "    top_food_items_dict = {k:dict(sorted(v.items(), key=lambda k_v:k_v[1], reverse=True)) for k, v in top_food_items_dict.items()}\n",
    "    max_rows = max([len(i) for i in top_food_items_dict.values()])\n",
    "    names = {k:list(tuple(v.keys())) for k, v in top_food_items_dict.items()}\n",
    "    names = {k:v if (len(v) == max_rows) else (v+[\"\"]*(max_rows - len(v))) for k, v in names.items()}\n",
    "    \n",
    "    values = {str(k)+\"_\":list(tuple(v.values())) for k, v in top_food_items_dict.items()}\n",
    "    values = {k:v if (len(v) == max_rows) else (v+[\"\"]*(max_rows - len(v)))  for k, v in values.items()}\n",
    "    \n",
    "    top_food_items_df[loc] = pd.DataFrame({**names, **values})[[12,\"12_\",1,\"1_\",2,\"2_\",3,\"3_\",4,\"4_\",5,\"5_\"]]\n",
    "                   "
   ]
  },
  {
   "cell_type": "code",
   "execution_count": 33,
   "metadata": {},
   "outputs": [],
   "source": [
    "top_food_items_df[\"Chicago, IL\"].to_csv(\"top_food_chicago_all.csv\")\n",
    "top_food_items_df[\"Phoenix, AZ\"].to_csv(\"top_food_phoenix_all.csv\")"
   ]
  },
  {
   "cell_type": "markdown",
   "metadata": {},
   "source": [
    "## Ratings"
   ]
  },
  {
   "cell_type": "code",
   "execution_count": 30,
   "metadata": {},
   "outputs": [],
   "source": [
    "ratings_df = {}\n",
    "\n",
    "for loc in [\"Chicago, IL\", \"Phoenix, AZ\"]:\n",
    "    ratings_dict = defaultdict(lambda: defaultdict(int))\n",
    "    \n",
    "    for file_name in glob(f\"reviews with ingreds removed/{loc}/*.jsonl\"):\n",
    "        data = srsly.read_jsonl(file_name)\n",
    "\n",
    "        for d in data:\n",
    "            month = datetime.strptime(d.get(\"date\"), \"%Y-%m-%d\").month\n",
    "            ratings_dict[month][d.get(\"rating\")] += 1\n",
    "                \n",
    "    ratings_dict = {k:dict(sorted(v.items(), \n",
    "                                         key=lambda k_v:k_v[0], \n",
    "                                         reverse=True)) \n",
    "                           for k, v in ratings_dict.items()}\n",
    "\n",
    "    ratings_df[loc] = pd.DataFrame({**{\"Rating\":[5,4,3,2,1]},\n",
    "                                 **{k:list(v.values()) for k, v in ratings_dict.items()}})[[\"Rating\",12,1,2,3,4,5]]"
   ]
  },
  {
   "cell_type": "code",
   "execution_count": 32,
   "metadata": {},
   "outputs": [],
   "source": [
    "ratings_df[\"Chicago, IL\"].to_csv(\"Ratings_chicago.csv\", index=False)\n",
    "ratings_df[\"Phoenix, AZ\"].to_csv(\"Ratings_phoenix.csv\", index=False)"
   ]
  },
  {
   "cell_type": "markdown",
   "metadata": {},
   "source": [
    "## Deliveries and Takeouts"
   ]
  },
  {
   "cell_type": "code",
   "execution_count": 63,
   "metadata": {},
   "outputs": [],
   "source": [
    "del_takeout_df = {}\n",
    "del_takeout_tag = [\"delivered\", \"delivery\", \"deliveries\", \"deliver\", \n",
    "                   \"takeout\", \"takeouts\", \"take home\"]\n",
    "\n",
    "for loc in [\"Chicago, IL\", \"Phoenix, AZ\"]:\n",
    "    del_takeout_dict = defaultdict(lambda: defaultdict(int))\n",
    "    \n",
    "    for file_name in glob(f\"reviews with ingreds removed/{loc}/*.jsonl\"):\n",
    "        data = srsly.read_jsonl(file_name)\n",
    "\n",
    "        for d in data:\n",
    "            month = datetime.strptime(d.get(\"date\"), \"%Y-%m-%d\").month\n",
    "            del_takeout_dict[month][\"Total\"] += 1\n",
    "            \n",
    "            if any([word for word in d.get(\"review\").split() if \n",
    "                    process.extractOne(word, del_takeout_tag, score_cutoff=95.0)]):\n",
    "                del_takeout_dict[month][\"del_takeout\"] += 1\n",
    "                \n",
    "    del_takeout_dict = {k:dict(sorted(v.items(), \n",
    "                                         key=lambda k_v:k_v[0], \n",
    "                                         reverse=True))\n",
    "                           for k, v in del_takeout_dict.items()}\n",
    "\n",
    "    del_takeout_df[loc] = pd.DataFrame({**{\"\":[\"del/takeout\",\"Total\"]},\n",
    "                                 **{k:list(v.values()) for k, v in del_takeout_dict.items() if k!=6}})[[\"\",12,1,2,3,4,5]]"
   ]
  },
  {
   "cell_type": "code",
   "execution_count": 65,
   "metadata": {},
   "outputs": [],
   "source": [
    "del_takeout_df[\"Chicago, IL\"].to_csv(\"del_takeouts_chicago.csv\", index=False)\n",
    "del_takeout_df[\"Phoenix, AZ\"].to_csv(\"del_takeouts_phoenix.csv\", index=False)"
   ]
  }
 ],
 "metadata": {
  "kernelspec": {
   "display_name": "yelp_ner (python 3.6.5)",
   "language": "python",
   "name": "yelp_ner"
  },
  "language_info": {
   "codemirror_mode": {
    "name": "ipython",
    "version": 3
   },
   "file_extension": ".py",
   "mimetype": "text/x-python",
   "name": "python",
   "nbconvert_exporter": "python",
   "pygments_lexer": "ipython3",
   "version": "3.6.5"
  }
 },
 "nbformat": 4,
 "nbformat_minor": 4
}
